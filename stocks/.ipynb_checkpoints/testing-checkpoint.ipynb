{
 "metadata": {
  "name": "",
  "signature": "sha256:235238329cd1940b0b7c82fabce5fd79582a45bd18bcff3fd917c0eaadd33fc7"
 },
 "nbformat": 3,
 "nbformat_minor": 0,
 "worksheets": []
}