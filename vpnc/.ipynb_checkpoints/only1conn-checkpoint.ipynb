{
 "metadata": {
  "name": "",
  "signature": "sha256:b10910700ff30906ccf6ab4a10ce3df7845bb83b797f210e9ca3179e315c1d8c"
 },
 "nbformat": 3,
 "nbformat_minor": 0,
 "worksheets": [
  {
   "cells": [
    {
     "cell_type": "code",
     "collapsed": false,
     "input": [
      "from subprocess import Popen, PIPE, STDOUT\n",
      "import sys\n",
      "from threading import Thread\n",
      "from queue import Queue, Empty\n",
      "\n",
      "class NonBlockingStreamReader:\n",
      "\n",
      "    def __init__(self, stream):\n",
      "\n",
      "        def _populateQueue(stream, queue):\n",
      "            while True:\n",
      "                try:\n",
      "                    queue.put(stream.readline())\n",
      "                except:\n",
      "                    pass\n",
      "        \n",
      "        self._q = Queue()\n",
      "        self._t = Thread(target=_populateQueue, args = (stream, self._q))\n",
      "        self._t.daemon = True\n",
      "        self._t.start() #start collecting lines from the stream\n",
      "\n",
      "    def readline(self, timeout=0.1):\n",
      "        try:\n",
      "            return self._q.get(timeout=timeout)\n",
      "        except Empty:\n",
      "            return None"
     ],
     "language": "python",
     "metadata": {},
     "outputs": [],
     "prompt_number": 100
    },
    {
     "cell_type": "code",
     "collapsed": false,
     "input": [
      "proc = Popen ('ssh -T root@192.168.0.1', shell=True, stdin=PIPE, stderr=PIPE, stdout=PIPE, universal_newlines=True, bufsize=0)\n",
      "nbsr = NonBlockingStreamReader(proc.stdout)\n",
      "\n",
      "def execute(cmd):\n",
      "    proc.stdin.write(cmd + ' \\n')\n",
      "\n",
      "def printstdout():\n",
      "    while 1:\n",
      "        line = proc.stdout.readline()\n",
      "        print(line)\n",
      "        sys.stdout.flush()\n",
      "\n",
      "def printstdoutnb():\n",
      "    while 1:\n",
      "        output = nbsr.readline(timeout=0.5)\n",
      "        if not output:\n",
      "            break\n",
      "        print(output)"
     ],
     "language": "python",
     "metadata": {},
     "outputs": [],
     "prompt_number": 101
    },
    {
     "cell_type": "code",
     "collapsed": false,
     "input": [
      "printstdoutnb()"
     ],
     "language": "python",
     "metadata": {},
     "outputs": [
      {
       "output_type": "stream",
       "stream": "stdout",
       "text": [
        "\n",
        "\n",
        "The programs included with the Debian GNU/Linux system are free software;\n",
        "\n",
        "the exact distribution terms for each program are described in the\n",
        "\n",
        "individual files in /usr/share/doc/*/copyright.\n",
        "\n",
        "\n",
        "\n",
        "Debian GNU/Linux comes with ABSOLUTELY NO WARRANTY, to the extent\n",
        "\n",
        "permitted by applicable law.\n",
        "\n"
       ]
      }
     ],
     "prompt_number": 102
    },
    {
     "cell_type": "code",
     "collapsed": false,
     "input": [
      "execute('ifconfig')\n",
      "execute('ping -c3 www.google.de')"
     ],
     "language": "python",
     "metadata": {},
     "outputs": [],
     "prompt_number": 88
    },
    {
     "cell_type": "code",
     "collapsed": false,
     "input": [
      "print(Exception)"
     ],
     "language": "python",
     "metadata": {},
     "outputs": [
      {
       "output_type": "stream",
       "stream": "stdout",
       "text": [
        "<class 'Exception'>\n"
       ]
      }
     ],
     "prompt_number": 96
    }
   ],
   "metadata": {}
  }
 ]
}